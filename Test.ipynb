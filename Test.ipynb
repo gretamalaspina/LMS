{
 "cells": [
  {
   "cell_type": "code",
   "execution_count": null,
   "metadata": {},
   "outputs": [],
   "source": [
    "%load_ext autoreload\n",
    "%autoreload 2\n",
    "import numpy as np\n",
    "from iterative_methods import *\n",
    "from evaluations import *\n",
    "from splitting import *\n",
    "from read_data import *\n",
    "from matplotlib import pyplot as plt\n",
    "import time\n",
    "import os"
   ]
  },
  {
   "cell_type": "code",
   "execution_count": null,
   "metadata": {},
   "outputs": [],
   "source": [
    "problems = ['timetest_010_1000/', 'timetest_010_5000/', 'timetest_010_10000/', 'timetest_010_20000/', 'timetest_010_50000/']\n",
    "# the number at the end is the approximate number of points in the testcase\n",
    "# the testcases are available for download at"
   ]
  },
  {
   "cell_type": "code",
   "execution_count": null,
   "metadata": {},
   "outputs": [],
   "source": [
    "# choose the problem that we want to solve\n",
    "cwd = os.getcwd()\n",
    "folderpath = cwd +'/tests/'+problems[1]\n",
    "\n",
    "# select the file containing the coordinate observations\n",
    "#st_dev and countP determine which coordinate observation file (initial guess) we want to use \n",
    "st_dev = 1.0\n",
    "countP = 1\n",
    "PO_file = \"project_\"+str(st_dev)+'_'+str(countP)+\".tco\"\n",
    "\n",
    "\n",
    "## read the solution\n",
    "# f = open(folderpath + 'true_sol.tco')\n",
    "# init_string = f.read()\n",
    "# sol, list_pt, N_pt, N_pt1, *rest = read_variables(init_string)\n",
    "# sol = np.array(sol)"
   ]
  },
  {
   "cell_type": "code",
   "execution_count": null,
   "metadata": {},
   "outputs": [],
   "source": [
    "observations, N_pt, adj_list, X0 = setup_problem(folderpath, PO_file, weights = [1,3,3])"
   ]
  },
  {
   "cell_type": "code",
   "execution_count": null,
   "metadata": {},
   "outputs": [],
   "source": [
    "K = 2 # number of subproblems that we split into, has to be positive\n",
    "\n",
    "if K==1:\n",
    "    cl_variables, cl_labels, cl_var_dic = [[],[],[]]\n",
    "\n",
    "else:\n",
    "    # if splitting, call clustering, which calls Metis to partition the graph and sets up the splitting\n",
    "    cl_variables, cl_labels, cl_var_dic = clustering(adj_list, K, splitting = 'metis')\n"
   ]
  },
  {
   "cell_type": "code",
   "execution_count": null,
   "metadata": {},
   "outputs": [],
   "source": [
    "# %%timeit -r1 -n1\n",
    "# call the solver\n",
    "X, it, R = LM(X0, N_pt, observations, cl_variables,cl_var_dic, cl_labels, K, maxit=1000, RHS_mat='B', PO_as_obs=1)"
   ]
  },
  {
   "cell_type": "code",
   "execution_count": null,
   "metadata": {},
   "outputs": [],
   "source": []
  }
 ],
 "metadata": {
  "kernelspec": {
   "display_name": "Python 3",
   "language": "python",
   "name": "python3"
  },
  "language_info": {
   "codemirror_mode": {
    "name": "ipython",
    "version": 3
   },
   "file_extension": ".py",
   "mimetype": "text/x-python",
   "name": "python",
   "nbconvert_exporter": "python",
   "pygments_lexer": "ipython3",
   "version": "3.8.8"
  }
 },
 "nbformat": 4,
 "nbformat_minor": 4
}
